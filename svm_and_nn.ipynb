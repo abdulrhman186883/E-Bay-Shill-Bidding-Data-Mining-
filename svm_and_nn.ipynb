{
  "cells": [
    {
      "cell_type": "code",
      "execution_count": 4,
      "metadata": {
        "colab": {
          "base_uri": "https://localhost:8080/"
        },
        "id": "YvBzepOzKdaZ",
        "outputId": "83500c8f-7935-4cad-c21d-46efe8d18620"
      },
      "outputs": [
        {
          "output_type": "stream",
          "name": "stdout",
          "text": [
            "Requirement already satisfied: mlxtend in /usr/local/lib/python3.7/dist-packages (0.19.0)\n",
            "Requirement already satisfied: scikit-learn>=0.20.3 in /usr/local/lib/python3.7/dist-packages (from mlxtend) (1.0.2)\n",
            "Requirement already satisfied: scipy>=1.2.1 in /usr/local/lib/python3.7/dist-packages (from mlxtend) (1.4.1)\n",
            "Requirement already satisfied: matplotlib>=3.0.0 in /usr/local/lib/python3.7/dist-packages (from mlxtend) (3.2.2)\n",
            "Requirement already satisfied: setuptools in /usr/local/lib/python3.7/dist-packages (from mlxtend) (57.4.0)\n",
            "Requirement already satisfied: numpy>=1.16.2 in /usr/local/lib/python3.7/dist-packages (from mlxtend) (1.21.6)\n",
            "Requirement already satisfied: pandas>=0.24.2 in /usr/local/lib/python3.7/dist-packages (from mlxtend) (1.3.5)\n",
            "Requirement already satisfied: joblib>=0.13.2 in /usr/local/lib/python3.7/dist-packages (from mlxtend) (1.1.0)\n",
            "Requirement already satisfied: python-dateutil>=2.1 in /usr/local/lib/python3.7/dist-packages (from matplotlib>=3.0.0->mlxtend) (2.8.2)\n",
            "Requirement already satisfied: cycler>=0.10 in /usr/local/lib/python3.7/dist-packages (from matplotlib>=3.0.0->mlxtend) (0.11.0)\n",
            "Requirement already satisfied: pyparsing!=2.0.4,!=2.1.2,!=2.1.6,>=2.0.1 in /usr/local/lib/python3.7/dist-packages (from matplotlib>=3.0.0->mlxtend) (3.0.8)\n",
            "Requirement already satisfied: kiwisolver>=1.0.1 in /usr/local/lib/python3.7/dist-packages (from matplotlib>=3.0.0->mlxtend) (1.4.2)\n",
            "Requirement already satisfied: typing-extensions in /usr/local/lib/python3.7/dist-packages (from kiwisolver>=1.0.1->matplotlib>=3.0.0->mlxtend) (4.1.1)\n",
            "Requirement already satisfied: pytz>=2017.3 in /usr/local/lib/python3.7/dist-packages (from pandas>=0.24.2->mlxtend) (2022.1)\n",
            "Requirement already satisfied: six>=1.5 in /usr/local/lib/python3.7/dist-packages (from python-dateutil>=2.1->matplotlib>=3.0.0->mlxtend) (1.15.0)\n",
            "Requirement already satisfied: threadpoolctl>=2.0.0 in /usr/local/lib/python3.7/dist-packages (from scikit-learn>=0.20.3->mlxtend) (3.1.0)\n"
          ]
        }
      ],
      "source": [
        "%pip install mlxtend --upgrade\n",
        "import pandas as pd\n",
        "from sklearn.model_selection import train_test_split \n",
        "from sklearn import metrics \n",
        "from matplotlib import pyplot as plt\n",
        "import numpy as np\n",
        "from sklearn.datasets import load_iris\n",
        "from sklearn.preprocessing import StandardScaler\n",
        "from sklearn import preprocessing\n",
        "from sklearn.metrics import classification_report, confusion_matrix\n",
        "from sklearn.metrics import plot_confusion_matrix\n",
        "from sklearn import preprocessing\n",
        "from sklearn.model_selection import learning_curve\n",
        "from mlxtend.evaluate import bias_variance_decomp\n",
        "import plotly.express as px\n",
        "from sklearn import svm\n",
        "from sklearn.naive_bayes import GaussianNB\n",
        "import seaborn as sb\n",
        "from sklearn.preprocessing import LabelEncoder\n",
        "from sklearn.metrics import roc_curve\n",
        "from sklearn.metrics import roc_auc_score"
      ]
    },
    {
      "cell_type": "code",
      "execution_count": 5,
      "metadata": {
        "colab": {
          "base_uri": "https://localhost:8080/",
          "height": 487
        },
        "id": "ucQPm_y-K0PE",
        "outputId": "231100ee-6a95-409e-9b73-9da03be59e6e"
      },
      "outputs": [
        {
          "output_type": "execute_result",
          "data": {
            "text/plain": [
              "      Record_ID  Auction_ID Bidder_ID  Bidder_Tendency  Bidding_Ratio  \\\n",
              "0             1         732     _***i         0.200000       0.400000   \n",
              "1             2         732     g***r         0.024390       0.200000   \n",
              "2             3         732     t***p         0.142857       0.200000   \n",
              "3             4         732     7***n         0.100000       0.200000   \n",
              "4             5         900     z***z         0.051282       0.222222   \n",
              "...         ...         ...       ...              ...            ...   \n",
              "6316      15129         760     l***t         0.333333       0.160000   \n",
              "6317      15137        2481     s***s         0.030612       0.130435   \n",
              "6318      15138        2481     h***t         0.055556       0.043478   \n",
              "6319      15139        2481     d***d         0.076923       0.086957   \n",
              "6320      15144        2481     a***l         0.016393       0.043478   \n",
              "\n",
              "      Successive_Outbidding  Last_Bidding  Auction_Bids  \\\n",
              "0                       0.0      0.000028      0.000000   \n",
              "1                       0.0      0.013123      0.000000   \n",
              "2                       0.0      0.003042      0.000000   \n",
              "3                       0.0      0.097477      0.000000   \n",
              "4                       0.0      0.001318      0.000000   \n",
              "...                     ...           ...           ...   \n",
              "6316                    1.0      0.738557      0.280000   \n",
              "6317                    0.0      0.005754      0.217391   \n",
              "6318                    0.0      0.015663      0.217391   \n",
              "6319                    0.0      0.068694      0.217391   \n",
              "6320                    0.0      0.340351      0.217391   \n",
              "\n",
              "      Starting_Price_Average  Early_Bidding  Winning_Ratio  Auction_Duration  \\\n",
              "0                   0.993593       0.000028       0.666667                 5   \n",
              "1                   0.993593       0.013123       0.944444                 5   \n",
              "2                   0.993593       0.003042       1.000000                 5   \n",
              "3                   0.993593       0.097477       1.000000                 5   \n",
              "4                   0.000000       0.001242       0.500000                 7   \n",
              "...                      ...            ...            ...               ...   \n",
              "6316                0.993593       0.686358       0.888889                 3   \n",
              "6317                0.993593       0.000010       0.878788                 7   \n",
              "6318                0.993593       0.015663       0.000000                 7   \n",
              "6319                0.993593       0.000415       0.000000                 7   \n",
              "6320                0.993593       0.340351       0.000000                 7   \n",
              "\n",
              "      Class  \n",
              "0         0  \n",
              "1         0  \n",
              "2         0  \n",
              "3         0  \n",
              "4         0  \n",
              "...     ...  \n",
              "6316      1  \n",
              "6317      0  \n",
              "6318      0  \n",
              "6319      0  \n",
              "6320      0  \n",
              "\n",
              "[6321 rows x 13 columns]"
            ],
            "text/html": [
              "\n",
              "  <div id=\"df-16c8a9b7-01fb-4f8e-88d8-6a4850aa191e\">\n",
              "    <div class=\"colab-df-container\">\n",
              "      <div>\n",
              "<style scoped>\n",
              "    .dataframe tbody tr th:only-of-type {\n",
              "        vertical-align: middle;\n",
              "    }\n",
              "\n",
              "    .dataframe tbody tr th {\n",
              "        vertical-align: top;\n",
              "    }\n",
              "\n",
              "    .dataframe thead th {\n",
              "        text-align: right;\n",
              "    }\n",
              "</style>\n",
              "<table border=\"1\" class=\"dataframe\">\n",
              "  <thead>\n",
              "    <tr style=\"text-align: right;\">\n",
              "      <th></th>\n",
              "      <th>Record_ID</th>\n",
              "      <th>Auction_ID</th>\n",
              "      <th>Bidder_ID</th>\n",
              "      <th>Bidder_Tendency</th>\n",
              "      <th>Bidding_Ratio</th>\n",
              "      <th>Successive_Outbidding</th>\n",
              "      <th>Last_Bidding</th>\n",
              "      <th>Auction_Bids</th>\n",
              "      <th>Starting_Price_Average</th>\n",
              "      <th>Early_Bidding</th>\n",
              "      <th>Winning_Ratio</th>\n",
              "      <th>Auction_Duration</th>\n",
              "      <th>Class</th>\n",
              "    </tr>\n",
              "  </thead>\n",
              "  <tbody>\n",
              "    <tr>\n",
              "      <th>0</th>\n",
              "      <td>1</td>\n",
              "      <td>732</td>\n",
              "      <td>_***i</td>\n",
              "      <td>0.200000</td>\n",
              "      <td>0.400000</td>\n",
              "      <td>0.0</td>\n",
              "      <td>0.000028</td>\n",
              "      <td>0.000000</td>\n",
              "      <td>0.993593</td>\n",
              "      <td>0.000028</td>\n",
              "      <td>0.666667</td>\n",
              "      <td>5</td>\n",
              "      <td>0</td>\n",
              "    </tr>\n",
              "    <tr>\n",
              "      <th>1</th>\n",
              "      <td>2</td>\n",
              "      <td>732</td>\n",
              "      <td>g***r</td>\n",
              "      <td>0.024390</td>\n",
              "      <td>0.200000</td>\n",
              "      <td>0.0</td>\n",
              "      <td>0.013123</td>\n",
              "      <td>0.000000</td>\n",
              "      <td>0.993593</td>\n",
              "      <td>0.013123</td>\n",
              "      <td>0.944444</td>\n",
              "      <td>5</td>\n",
              "      <td>0</td>\n",
              "    </tr>\n",
              "    <tr>\n",
              "      <th>2</th>\n",
              "      <td>3</td>\n",
              "      <td>732</td>\n",
              "      <td>t***p</td>\n",
              "      <td>0.142857</td>\n",
              "      <td>0.200000</td>\n",
              "      <td>0.0</td>\n",
              "      <td>0.003042</td>\n",
              "      <td>0.000000</td>\n",
              "      <td>0.993593</td>\n",
              "      <td>0.003042</td>\n",
              "      <td>1.000000</td>\n",
              "      <td>5</td>\n",
              "      <td>0</td>\n",
              "    </tr>\n",
              "    <tr>\n",
              "      <th>3</th>\n",
              "      <td>4</td>\n",
              "      <td>732</td>\n",
              "      <td>7***n</td>\n",
              "      <td>0.100000</td>\n",
              "      <td>0.200000</td>\n",
              "      <td>0.0</td>\n",
              "      <td>0.097477</td>\n",
              "      <td>0.000000</td>\n",
              "      <td>0.993593</td>\n",
              "      <td>0.097477</td>\n",
              "      <td>1.000000</td>\n",
              "      <td>5</td>\n",
              "      <td>0</td>\n",
              "    </tr>\n",
              "    <tr>\n",
              "      <th>4</th>\n",
              "      <td>5</td>\n",
              "      <td>900</td>\n",
              "      <td>z***z</td>\n",
              "      <td>0.051282</td>\n",
              "      <td>0.222222</td>\n",
              "      <td>0.0</td>\n",
              "      <td>0.001318</td>\n",
              "      <td>0.000000</td>\n",
              "      <td>0.000000</td>\n",
              "      <td>0.001242</td>\n",
              "      <td>0.500000</td>\n",
              "      <td>7</td>\n",
              "      <td>0</td>\n",
              "    </tr>\n",
              "    <tr>\n",
              "      <th>...</th>\n",
              "      <td>...</td>\n",
              "      <td>...</td>\n",
              "      <td>...</td>\n",
              "      <td>...</td>\n",
              "      <td>...</td>\n",
              "      <td>...</td>\n",
              "      <td>...</td>\n",
              "      <td>...</td>\n",
              "      <td>...</td>\n",
              "      <td>...</td>\n",
              "      <td>...</td>\n",
              "      <td>...</td>\n",
              "      <td>...</td>\n",
              "    </tr>\n",
              "    <tr>\n",
              "      <th>6316</th>\n",
              "      <td>15129</td>\n",
              "      <td>760</td>\n",
              "      <td>l***t</td>\n",
              "      <td>0.333333</td>\n",
              "      <td>0.160000</td>\n",
              "      <td>1.0</td>\n",
              "      <td>0.738557</td>\n",
              "      <td>0.280000</td>\n",
              "      <td>0.993593</td>\n",
              "      <td>0.686358</td>\n",
              "      <td>0.888889</td>\n",
              "      <td>3</td>\n",
              "      <td>1</td>\n",
              "    </tr>\n",
              "    <tr>\n",
              "      <th>6317</th>\n",
              "      <td>15137</td>\n",
              "      <td>2481</td>\n",
              "      <td>s***s</td>\n",
              "      <td>0.030612</td>\n",
              "      <td>0.130435</td>\n",
              "      <td>0.0</td>\n",
              "      <td>0.005754</td>\n",
              "      <td>0.217391</td>\n",
              "      <td>0.993593</td>\n",
              "      <td>0.000010</td>\n",
              "      <td>0.878788</td>\n",
              "      <td>7</td>\n",
              "      <td>0</td>\n",
              "    </tr>\n",
              "    <tr>\n",
              "      <th>6318</th>\n",
              "      <td>15138</td>\n",
              "      <td>2481</td>\n",
              "      <td>h***t</td>\n",
              "      <td>0.055556</td>\n",
              "      <td>0.043478</td>\n",
              "      <td>0.0</td>\n",
              "      <td>0.015663</td>\n",
              "      <td>0.217391</td>\n",
              "      <td>0.993593</td>\n",
              "      <td>0.015663</td>\n",
              "      <td>0.000000</td>\n",
              "      <td>7</td>\n",
              "      <td>0</td>\n",
              "    </tr>\n",
              "    <tr>\n",
              "      <th>6319</th>\n",
              "      <td>15139</td>\n",
              "      <td>2481</td>\n",
              "      <td>d***d</td>\n",
              "      <td>0.076923</td>\n",
              "      <td>0.086957</td>\n",
              "      <td>0.0</td>\n",
              "      <td>0.068694</td>\n",
              "      <td>0.217391</td>\n",
              "      <td>0.993593</td>\n",
              "      <td>0.000415</td>\n",
              "      <td>0.000000</td>\n",
              "      <td>7</td>\n",
              "      <td>0</td>\n",
              "    </tr>\n",
              "    <tr>\n",
              "      <th>6320</th>\n",
              "      <td>15144</td>\n",
              "      <td>2481</td>\n",
              "      <td>a***l</td>\n",
              "      <td>0.016393</td>\n",
              "      <td>0.043478</td>\n",
              "      <td>0.0</td>\n",
              "      <td>0.340351</td>\n",
              "      <td>0.217391</td>\n",
              "      <td>0.993593</td>\n",
              "      <td>0.340351</td>\n",
              "      <td>0.000000</td>\n",
              "      <td>7</td>\n",
              "      <td>0</td>\n",
              "    </tr>\n",
              "  </tbody>\n",
              "</table>\n",
              "<p>6321 rows × 13 columns</p>\n",
              "</div>\n",
              "      <button class=\"colab-df-convert\" onclick=\"convertToInteractive('df-16c8a9b7-01fb-4f8e-88d8-6a4850aa191e')\"\n",
              "              title=\"Convert this dataframe to an interactive table.\"\n",
              "              style=\"display:none;\">\n",
              "        \n",
              "  <svg xmlns=\"http://www.w3.org/2000/svg\" height=\"24px\"viewBox=\"0 0 24 24\"\n",
              "       width=\"24px\">\n",
              "    <path d=\"M0 0h24v24H0V0z\" fill=\"none\"/>\n",
              "    <path d=\"M18.56 5.44l.94 2.06.94-2.06 2.06-.94-2.06-.94-.94-2.06-.94 2.06-2.06.94zm-11 1L8.5 8.5l.94-2.06 2.06-.94-2.06-.94L8.5 2.5l-.94 2.06-2.06.94zm10 10l.94 2.06.94-2.06 2.06-.94-2.06-.94-.94-2.06-.94 2.06-2.06.94z\"/><path d=\"M17.41 7.96l-1.37-1.37c-.4-.4-.92-.59-1.43-.59-.52 0-1.04.2-1.43.59L10.3 9.45l-7.72 7.72c-.78.78-.78 2.05 0 2.83L4 21.41c.39.39.9.59 1.41.59.51 0 1.02-.2 1.41-.59l7.78-7.78 2.81-2.81c.8-.78.8-2.07 0-2.86zM5.41 20L4 18.59l7.72-7.72 1.47 1.35L5.41 20z\"/>\n",
              "  </svg>\n",
              "      </button>\n",
              "      \n",
              "  <style>\n",
              "    .colab-df-container {\n",
              "      display:flex;\n",
              "      flex-wrap:wrap;\n",
              "      gap: 12px;\n",
              "    }\n",
              "\n",
              "    .colab-df-convert {\n",
              "      background-color: #E8F0FE;\n",
              "      border: none;\n",
              "      border-radius: 50%;\n",
              "      cursor: pointer;\n",
              "      display: none;\n",
              "      fill: #1967D2;\n",
              "      height: 32px;\n",
              "      padding: 0 0 0 0;\n",
              "      width: 32px;\n",
              "    }\n",
              "\n",
              "    .colab-df-convert:hover {\n",
              "      background-color: #E2EBFA;\n",
              "      box-shadow: 0px 1px 2px rgba(60, 64, 67, 0.3), 0px 1px 3px 1px rgba(60, 64, 67, 0.15);\n",
              "      fill: #174EA6;\n",
              "    }\n",
              "\n",
              "    [theme=dark] .colab-df-convert {\n",
              "      background-color: #3B4455;\n",
              "      fill: #D2E3FC;\n",
              "    }\n",
              "\n",
              "    [theme=dark] .colab-df-convert:hover {\n",
              "      background-color: #434B5C;\n",
              "      box-shadow: 0px 1px 3px 1px rgba(0, 0, 0, 0.15);\n",
              "      filter: drop-shadow(0px 1px 2px rgba(0, 0, 0, 0.3));\n",
              "      fill: #FFFFFF;\n",
              "    }\n",
              "  </style>\n",
              "\n",
              "      <script>\n",
              "        const buttonEl =\n",
              "          document.querySelector('#df-16c8a9b7-01fb-4f8e-88d8-6a4850aa191e button.colab-df-convert');\n",
              "        buttonEl.style.display =\n",
              "          google.colab.kernel.accessAllowed ? 'block' : 'none';\n",
              "\n",
              "        async function convertToInteractive(key) {\n",
              "          const element = document.querySelector('#df-16c8a9b7-01fb-4f8e-88d8-6a4850aa191e');\n",
              "          const dataTable =\n",
              "            await google.colab.kernel.invokeFunction('convertToInteractive',\n",
              "                                                     [key], {});\n",
              "          if (!dataTable) return;\n",
              "\n",
              "          const docLinkHtml = 'Like what you see? Visit the ' +\n",
              "            '<a target=\"_blank\" href=https://colab.research.google.com/notebooks/data_table.ipynb>data table notebook</a>'\n",
              "            + ' to learn more about interactive tables.';\n",
              "          element.innerHTML = '';\n",
              "          dataTable['output_type'] = 'display_data';\n",
              "          await google.colab.output.renderOutput(dataTable, element);\n",
              "          const docLink = document.createElement('div');\n",
              "          docLink.innerHTML = docLinkHtml;\n",
              "          element.appendChild(docLink);\n",
              "        }\n",
              "      </script>\n",
              "    </div>\n",
              "  </div>\n",
              "  "
            ]
          },
          "metadata": {},
          "execution_count": 5
        }
      ],
      "source": [
        "#read dataset \n",
        "df = pd.read_csv(\"Shill Bidding Dataset.csv\")\n",
        "df"
      ]
    },
    {
      "cell_type": "markdown",
      "metadata": {
        "id": "xEMDgPS5LfP9"
      },
      "source": [
        "**preprocessing**\n"
      ]
    },
    {
      "cell_type": "code",
      "execution_count": 6,
      "metadata": {
        "colab": {
          "base_uri": "https://localhost:8080/"
        },
        "id": "uNaktYX3LMOn",
        "outputId": "223bfdb6-8dc4-4ece-a251-037e95c4c5ed"
      },
      "outputs": [
        {
          "output_type": "execute_result",
          "data": {
            "text/plain": [
              "Record_ID                 0\n",
              "Auction_ID                0\n",
              "Bidder_ID                 0\n",
              "Bidder_Tendency           0\n",
              "Bidding_Ratio             0\n",
              "Successive_Outbidding     0\n",
              "Last_Bidding              0\n",
              "Auction_Bids              0\n",
              "Starting_Price_Average    0\n",
              "Early_Bidding             0\n",
              "Winning_Ratio             0\n",
              "Auction_Duration          0\n",
              "Class                     0\n",
              "dtype: int64"
            ]
          },
          "metadata": {},
          "execution_count": 6
        }
      ],
      "source": [
        "#check null cells\n",
        "df.isnull().sum()\n"
      ]
    },
    {
      "cell_type": "code",
      "execution_count": 7,
      "metadata": {
        "colab": {
          "base_uri": "https://localhost:8080/",
          "height": 364
        },
        "id": "xm3ZL76nLS9j",
        "outputId": "0c848766-4d21-45f2-96bd-7e52190962b4"
      },
      "outputs": [
        {
          "output_type": "execute_result",
          "data": {
            "text/plain": [
              "       Bidder_Tendency  Bidding_Ratio  Successive_Outbidding  Last_Bidding  \\\n",
              "count      6321.000000    6321.000000            6321.000000   6321.000000   \n",
              "mean          0.142541       0.127670               0.103781      0.463119   \n",
              "std           0.197084       0.131530               0.279698      0.380097   \n",
              "min           0.000000       0.011765               0.000000      0.000000   \n",
              "25%           0.027027       0.043478               0.000000      0.047928   \n",
              "50%           0.062500       0.083333               0.000000      0.440937   \n",
              "75%           0.166667       0.166667               0.000000      0.860363   \n",
              "max           1.000000       1.000000               1.000000      0.999900   \n",
              "\n",
              "       Auction_Bids  Starting_Price_Average  Early_Bidding  Winning_Ratio  \\\n",
              "count   6321.000000             6321.000000    6321.000000    6321.000000   \n",
              "mean       0.231606                0.472821       0.430683       0.367731   \n",
              "std        0.255252                0.489912       0.380785       0.436573   \n",
              "min        0.000000                0.000000       0.000000       0.000000   \n",
              "25%        0.000000                0.000000       0.026620       0.000000   \n",
              "50%        0.142857                0.000000       0.360104       0.000000   \n",
              "75%        0.454545                0.993593       0.826761       0.851852   \n",
              "max        0.788235                0.999935       0.999900       1.000000   \n",
              "\n",
              "       Auction_Duration        Class  \n",
              "count       6321.000000  6321.000000  \n",
              "mean           4.615093     0.106787  \n",
              "std            2.466629     0.308867  \n",
              "min            1.000000     0.000000  \n",
              "25%            3.000000     0.000000  \n",
              "50%            5.000000     0.000000  \n",
              "75%            7.000000     0.000000  \n",
              "max           10.000000     1.000000  "
            ],
            "text/html": [
              "\n",
              "  <div id=\"df-f3a1463b-a509-437a-957c-1c2f20e1785e\">\n",
              "    <div class=\"colab-df-container\">\n",
              "      <div>\n",
              "<style scoped>\n",
              "    .dataframe tbody tr th:only-of-type {\n",
              "        vertical-align: middle;\n",
              "    }\n",
              "\n",
              "    .dataframe tbody tr th {\n",
              "        vertical-align: top;\n",
              "    }\n",
              "\n",
              "    .dataframe thead th {\n",
              "        text-align: right;\n",
              "    }\n",
              "</style>\n",
              "<table border=\"1\" class=\"dataframe\">\n",
              "  <thead>\n",
              "    <tr style=\"text-align: right;\">\n",
              "      <th></th>\n",
              "      <th>Bidder_Tendency</th>\n",
              "      <th>Bidding_Ratio</th>\n",
              "      <th>Successive_Outbidding</th>\n",
              "      <th>Last_Bidding</th>\n",
              "      <th>Auction_Bids</th>\n",
              "      <th>Starting_Price_Average</th>\n",
              "      <th>Early_Bidding</th>\n",
              "      <th>Winning_Ratio</th>\n",
              "      <th>Auction_Duration</th>\n",
              "      <th>Class</th>\n",
              "    </tr>\n",
              "  </thead>\n",
              "  <tbody>\n",
              "    <tr>\n",
              "      <th>count</th>\n",
              "      <td>6321.000000</td>\n",
              "      <td>6321.000000</td>\n",
              "      <td>6321.000000</td>\n",
              "      <td>6321.000000</td>\n",
              "      <td>6321.000000</td>\n",
              "      <td>6321.000000</td>\n",
              "      <td>6321.000000</td>\n",
              "      <td>6321.000000</td>\n",
              "      <td>6321.000000</td>\n",
              "      <td>6321.000000</td>\n",
              "    </tr>\n",
              "    <tr>\n",
              "      <th>mean</th>\n",
              "      <td>0.142541</td>\n",
              "      <td>0.127670</td>\n",
              "      <td>0.103781</td>\n",
              "      <td>0.463119</td>\n",
              "      <td>0.231606</td>\n",
              "      <td>0.472821</td>\n",
              "      <td>0.430683</td>\n",
              "      <td>0.367731</td>\n",
              "      <td>4.615093</td>\n",
              "      <td>0.106787</td>\n",
              "    </tr>\n",
              "    <tr>\n",
              "      <th>std</th>\n",
              "      <td>0.197084</td>\n",
              "      <td>0.131530</td>\n",
              "      <td>0.279698</td>\n",
              "      <td>0.380097</td>\n",
              "      <td>0.255252</td>\n",
              "      <td>0.489912</td>\n",
              "      <td>0.380785</td>\n",
              "      <td>0.436573</td>\n",
              "      <td>2.466629</td>\n",
              "      <td>0.308867</td>\n",
              "    </tr>\n",
              "    <tr>\n",
              "      <th>min</th>\n",
              "      <td>0.000000</td>\n",
              "      <td>0.011765</td>\n",
              "      <td>0.000000</td>\n",
              "      <td>0.000000</td>\n",
              "      <td>0.000000</td>\n",
              "      <td>0.000000</td>\n",
              "      <td>0.000000</td>\n",
              "      <td>0.000000</td>\n",
              "      <td>1.000000</td>\n",
              "      <td>0.000000</td>\n",
              "    </tr>\n",
              "    <tr>\n",
              "      <th>25%</th>\n",
              "      <td>0.027027</td>\n",
              "      <td>0.043478</td>\n",
              "      <td>0.000000</td>\n",
              "      <td>0.047928</td>\n",
              "      <td>0.000000</td>\n",
              "      <td>0.000000</td>\n",
              "      <td>0.026620</td>\n",
              "      <td>0.000000</td>\n",
              "      <td>3.000000</td>\n",
              "      <td>0.000000</td>\n",
              "    </tr>\n",
              "    <tr>\n",
              "      <th>50%</th>\n",
              "      <td>0.062500</td>\n",
              "      <td>0.083333</td>\n",
              "      <td>0.000000</td>\n",
              "      <td>0.440937</td>\n",
              "      <td>0.142857</td>\n",
              "      <td>0.000000</td>\n",
              "      <td>0.360104</td>\n",
              "      <td>0.000000</td>\n",
              "      <td>5.000000</td>\n",
              "      <td>0.000000</td>\n",
              "    </tr>\n",
              "    <tr>\n",
              "      <th>75%</th>\n",
              "      <td>0.166667</td>\n",
              "      <td>0.166667</td>\n",
              "      <td>0.000000</td>\n",
              "      <td>0.860363</td>\n",
              "      <td>0.454545</td>\n",
              "      <td>0.993593</td>\n",
              "      <td>0.826761</td>\n",
              "      <td>0.851852</td>\n",
              "      <td>7.000000</td>\n",
              "      <td>0.000000</td>\n",
              "    </tr>\n",
              "    <tr>\n",
              "      <th>max</th>\n",
              "      <td>1.000000</td>\n",
              "      <td>1.000000</td>\n",
              "      <td>1.000000</td>\n",
              "      <td>0.999900</td>\n",
              "      <td>0.788235</td>\n",
              "      <td>0.999935</td>\n",
              "      <td>0.999900</td>\n",
              "      <td>1.000000</td>\n",
              "      <td>10.000000</td>\n",
              "      <td>1.000000</td>\n",
              "    </tr>\n",
              "  </tbody>\n",
              "</table>\n",
              "</div>\n",
              "      <button class=\"colab-df-convert\" onclick=\"convertToInteractive('df-f3a1463b-a509-437a-957c-1c2f20e1785e')\"\n",
              "              title=\"Convert this dataframe to an interactive table.\"\n",
              "              style=\"display:none;\">\n",
              "        \n",
              "  <svg xmlns=\"http://www.w3.org/2000/svg\" height=\"24px\"viewBox=\"0 0 24 24\"\n",
              "       width=\"24px\">\n",
              "    <path d=\"M0 0h24v24H0V0z\" fill=\"none\"/>\n",
              "    <path d=\"M18.56 5.44l.94 2.06.94-2.06 2.06-.94-2.06-.94-.94-2.06-.94 2.06-2.06.94zm-11 1L8.5 8.5l.94-2.06 2.06-.94-2.06-.94L8.5 2.5l-.94 2.06-2.06.94zm10 10l.94 2.06.94-2.06 2.06-.94-2.06-.94-.94-2.06-.94 2.06-2.06.94z\"/><path d=\"M17.41 7.96l-1.37-1.37c-.4-.4-.92-.59-1.43-.59-.52 0-1.04.2-1.43.59L10.3 9.45l-7.72 7.72c-.78.78-.78 2.05 0 2.83L4 21.41c.39.39.9.59 1.41.59.51 0 1.02-.2 1.41-.59l7.78-7.78 2.81-2.81c.8-.78.8-2.07 0-2.86zM5.41 20L4 18.59l7.72-7.72 1.47 1.35L5.41 20z\"/>\n",
              "  </svg>\n",
              "      </button>\n",
              "      \n",
              "  <style>\n",
              "    .colab-df-container {\n",
              "      display:flex;\n",
              "      flex-wrap:wrap;\n",
              "      gap: 12px;\n",
              "    }\n",
              "\n",
              "    .colab-df-convert {\n",
              "      background-color: #E8F0FE;\n",
              "      border: none;\n",
              "      border-radius: 50%;\n",
              "      cursor: pointer;\n",
              "      display: none;\n",
              "      fill: #1967D2;\n",
              "      height: 32px;\n",
              "      padding: 0 0 0 0;\n",
              "      width: 32px;\n",
              "    }\n",
              "\n",
              "    .colab-df-convert:hover {\n",
              "      background-color: #E2EBFA;\n",
              "      box-shadow: 0px 1px 2px rgba(60, 64, 67, 0.3), 0px 1px 3px 1px rgba(60, 64, 67, 0.15);\n",
              "      fill: #174EA6;\n",
              "    }\n",
              "\n",
              "    [theme=dark] .colab-df-convert {\n",
              "      background-color: #3B4455;\n",
              "      fill: #D2E3FC;\n",
              "    }\n",
              "\n",
              "    [theme=dark] .colab-df-convert:hover {\n",
              "      background-color: #434B5C;\n",
              "      box-shadow: 0px 1px 3px 1px rgba(0, 0, 0, 0.15);\n",
              "      filter: drop-shadow(0px 1px 2px rgba(0, 0, 0, 0.3));\n",
              "      fill: #FFFFFF;\n",
              "    }\n",
              "  </style>\n",
              "\n",
              "      <script>\n",
              "        const buttonEl =\n",
              "          document.querySelector('#df-f3a1463b-a509-437a-957c-1c2f20e1785e button.colab-df-convert');\n",
              "        buttonEl.style.display =\n",
              "          google.colab.kernel.accessAllowed ? 'block' : 'none';\n",
              "\n",
              "        async function convertToInteractive(key) {\n",
              "          const element = document.querySelector('#df-f3a1463b-a509-437a-957c-1c2f20e1785e');\n",
              "          const dataTable =\n",
              "            await google.colab.kernel.invokeFunction('convertToInteractive',\n",
              "                                                     [key], {});\n",
              "          if (!dataTable) return;\n",
              "\n",
              "          const docLinkHtml = 'Like what you see? Visit the ' +\n",
              "            '<a target=\"_blank\" href=https://colab.research.google.com/notebooks/data_table.ipynb>data table notebook</a>'\n",
              "            + ' to learn more about interactive tables.';\n",
              "          element.innerHTML = '';\n",
              "          dataTable['output_type'] = 'display_data';\n",
              "          await google.colab.output.renderOutput(dataTable, element);\n",
              "          const docLink = document.createElement('div');\n",
              "          docLink.innerHTML = docLinkHtml;\n",
              "          element.appendChild(docLink);\n",
              "        }\n",
              "      </script>\n",
              "    </div>\n",
              "  </div>\n",
              "  "
            ]
          },
          "metadata": {},
          "execution_count": 7
        }
      ],
      "source": [
        "#drop duplicates and irrelivent features\n",
        "df.drop_duplicates(keep = 'first', inplace = True)\n",
        "df.drop([\"Record_ID\",\"Auction_ID\",\"Bidder_ID\"],axis='columns', inplace=True)\n",
        "df.describe()\n"
      ]
    },
    {
      "cell_type": "code",
      "execution_count": 8,
      "metadata": {
        "colab": {
          "base_uri": "https://localhost:8080/",
          "height": 316
        },
        "id": "o5SYMWFSLjL-",
        "outputId": "08bfc477-6d0c-4c42-ca2f-2c6306939056"
      },
      "outputs": [
        {
          "output_type": "display_data",
          "data": {
            "text/plain": [
              "<Figure size 432x288 with 1 Axes>"
            ],
            "image/png": "[encoded data removed]"
          },
          "metadata": {}
        },
        {
          "output_type": "execute_result",
          "data": {
            "text/plain": [
              "0    5646\n",
              "1     675\n",
              "Name: Class, dtype: int64"
            ]
          },
          "metadata": {},
          "execution_count": 8
        }
      ],
      "source": [
        "#check data set balane\n",
        "classes=df['Class'].value_counts()\n",
        "plt.pie(classes,labels = ['Normal', 'Not Normal'])  \n",
        "plt.title (\"Bidding Type\")\n",
        "plt.show()\n",
        "classes"
      ]
    },
    {
      "cell_type": "markdown",
      "source": [
        "data is unbalanced and will require a balancing technique "
      ],
      "metadata": {
        "id": "892m0mVkXZL0"
      }
    },
    {
      "cell_type": "markdown",
      "metadata": {
        "id": "4-C-5lVmLkuU"
      },
      "source": [
        "**balancing the data**"
      ]
    },
    {
      "cell_type": "code",
      "execution_count": 9,
      "metadata": {
        "colab": {
          "base_uri": "https://localhost:8080/",
          "height": 316
        },
        "id": "X6QE_HQlLm2R",
        "outputId": "7f776fe0-0ddb-4af6-c006-75dc755bfecf"
      },
      "outputs": [
        {
          "output_type": "display_data",
          "data": {
            "text/plain": [
              "<Figure size 432x288 with 1 Axes>"
            ],
            "image/png": "[encoded data removed]"
          },
          "metadata": {}
        },
        {
          "output_type": "execute_result",
          "data": {
            "text/plain": [
              "0    5646\n",
              "1    5646\n",
              "Name: Class, dtype: int64"
            ]
          },
          "metadata": {},
          "execution_count": 9
        }
      ],
      "source": [
        "from imblearn.over_sampling import SMOTE\n",
        "from sklearn.cluster import KMeans\n",
        "#splitting the data set into training and testing data\n",
        "X = df.iloc[:, :9].values\n",
        "y = df[\"Class\"].values\n",
        "#balancing the dataset using Smote\n",
        "smoteSampler = SMOTE(random_state=42)\n",
        "smoteX,smoteY=smoteSampler.fit_resample(X, y)\n",
        "#spliting the train and test data once with smote and once without it\n",
        "X_train,X_test, y_train, y_test = train_test_split(smoteX, smoteY, test_size=0.4, random_state=1)\n",
        "X_train2,X_test2, y_train2, y_test2 = train_test_split(X, y, test_size=0.4, random_state=1)\n",
        "#summary of Classes after SMOTE\n",
        "classes=pd.DataFrame(smoteY,columns=['Class'])['Class'].value_counts()\n",
        "plt.pie(classes,labels = ['Normal', 'Not Normal'])  \n",
        "plt.title (\"Bidding Type\")\n",
        "plt.show()\n",
        "classes"
      ]
    },
    {
      "cell_type": "markdown",
      "source": [
        "data is now balanced "
      ],
      "metadata": {
        "id": "8XR9KZc_YBiE"
      }
    },
    {
      "cell_type": "markdown",
      "metadata": {
        "id": "pCbGwwXXLxpP"
      },
      "source": [
        "# **svm: with smote**"
      ]
    },
    {
      "cell_type": "markdown",
      "metadata": {
        "id": "oY3H77S7L-jm"
      },
      "source": [
        "**finding best kernal**"
      ]
    },
    {
      "cell_type": "code",
      "execution_count": 10,
      "metadata": {
        "colab": {
          "base_uri": "https://localhost:8080/",
          "height": 279
        },
        "id": "cH6yuYIDLpua",
        "outputId": "a93f2927-4742-4a09-ff50-c5334414bc2d"
      },
      "outputs": [
        {
          "output_type": "display_data",
          "data": {
            "text/plain": [
              "<Figure size 432x288 with 1 Axes>"
            ],
            "image/png": "[encoded data removed]"
          },
          "metadata": {
            "needs_background": "light"
          }
        }
      ],
      "source": [
        "#finding best kernal depending on acurrecy\n",
        "kernels = ['linear','poly','rbf','sigmoid']\n",
        "scores = []\n",
        "#train a model for each kernal and test it's accurecy\n",
        "for k in kernels:\n",
        "    svmm = svm.SVC(kernel=k,probability=True,random_state=4)\n",
        "    svmm.fit(X_train,y_train)\n",
        "    svmm_pred = svmm.predict(X_test)\n",
        "    scores.append(metrics.accuracy_score(y_test, svmm_pred))\n",
        "#plot a graph of each kernal accurecy\n",
        "plt.plot(kernels, scores)\n",
        "plt.xlabel('Kernel')\n",
        "plt.ylabel('Testing Accuracy')\n",
        "plt.show()"
      ]
    },
    {
      "cell_type": "code",
      "execution_count": 11,
      "metadata": {
        "colab": {
          "base_uri": "https://localhost:8080/"
        },
        "id": "NT_Nv9iiMPLX",
        "outputId": "f5db4b9d-1ba3-40ec-cf0e-47822e5c28b9"
      },
      "outputs": [
        {
          "output_type": "stream",
          "name": "stdout",
          "text": [
            "rbf\n"
          ]
        }
      ],
      "source": [
        "max_value = max(scores)\n",
        "max_index = scores.index(max_value)\n",
        "print(kernels[max_index])"
      ]
    },
    {
      "cell_type": "code",
      "execution_count": 12,
      "metadata": {
        "colab": {
          "base_uri": "https://localhost:8080/"
        },
        "id": "4f-gm5QWMXz2",
        "outputId": "6eb54346-8f0b-4188-86d7-dcb07a558e20"
      },
      "outputs": [
        {
          "output_type": "stream",
          "name": "stdout",
          "text": [
            "Accuracy on training set: 0.992620\n",
            "Accuracy on test set: 0.991809\n"
          ]
        }
      ],
      "source": [
        "#overwrite the last model with the highest accurecy model\n",
        "svmm =  svm.SVC(kernel=kernels[max_index],probability=True)\n",
        "clf = svmm.fit(X_train,y_train)\n",
        "svmm_pred = svmm.predict(X_test)\n",
        "print(\"Accuracy on training set: {:.6f}\".format(svmm.score(X_train, y_train)))\n",
        "print(\"Accuracy on test set: {:.6f}\".format(svmm.score(X_test, y_test)))\n",
        "\n"
      ]
    },
    {
      "cell_type": "code",
      "execution_count": 13,
      "metadata": {
        "colab": {
          "base_uri": "https://localhost:8080/"
        },
        "id": "rUNDX0fHTrr3",
        "outputId": "46ddc710-62f3-45cb-8b25-2805309b14a1"
      },
      "outputs": [
        {
          "output_type": "stream",
          "name": "stdout",
          "text": [
            "              precision    recall  f1-score   support\n",
            "\n",
            "           0       1.00      0.99      0.99      2261\n",
            "           1       0.99      1.00      0.99      2256\n",
            "\n",
            "    accuracy                           0.99      4517\n",
            "   macro avg       0.99      0.99      0.99      4517\n",
            "weighted avg       0.99      0.99      0.99      4517\n",
            "\n"
          ]
        }
      ],
      "source": [
        "\n",
        "print(classification_report(y_test,svmm_pred))"
      ]
    },
    {
      "cell_type": "markdown",
      "metadata": {
        "id": "rvwKmayQMfdf"
      },
      "source": [
        "**SVM:visualization**"
      ]
    },
    {
      "cell_type": "code",
      "execution_count": 14,
      "metadata": {
        "colab": {
          "base_uri": "https://localhost:8080/",
          "height": 350
        },
        "id": "x1OTaOyyMbdt",
        "outputId": "c07775b7-55c1-4ca7-b1eb-2cae0b6c48ab"
      },
      "outputs": [
        {
          "output_type": "stream",
          "name": "stderr",
          "text": [
            "/usr/local/lib/python3.7/dist-packages/sklearn/utils/deprecation.py:87: FutureWarning: Function plot_confusion_matrix is deprecated; Function `plot_confusion_matrix` is deprecated in 1.0 and will be removed in 1.2. Use one of the class methods: ConfusionMatrixDisplay.from_predictions or ConfusionMatrixDisplay.from_estimator.\n",
            "  warnings.warn(msg, category=FutureWarning)\n"
          ]
        },
        {
          "output_type": "display_data",
          "data": {
            "text/plain": [
              "<Figure size 432x288 with 2 Axes>"
            ],
            "image/png": "[encoded data removed]"
          },
          "metadata": {
            "needs_background": "light"
          }
        }
      ],
      "source": [
        "plot_confusion_matrix(svmm, X_test, y_test)  \n",
        "plt.title('confusion Matrix')\n",
        "plt.show()"
      ]
    },
    {
      "cell_type": "code",
      "execution_count": 15,
      "metadata": {
        "colab": {
          "base_uri": "https://localhost:8080/",
          "height": 330
        },
        "id": "fy0KSSHyMj5m",
        "outputId": "169509ca-823e-4405-85d6-e4c09911789f"
      },
      "outputs": [
        {
          "output_type": "stream",
          "name": "stdout",
          "text": [
            "564\n",
            "[282 282]\n"
          ]
        },
        {
          "output_type": "display_data",
          "data": {
            "text/plain": [
              "<Figure size 432x288 with 1 Axes>"
            ],
            "image/png": "[encoded data removed]"
          },
          "metadata": {
            "needs_background": "light"
          }
        }
      ],
      "source": [
        "# Get support vector indices\n",
        "support_vector_indices = clf.support_\n",
        "print(len(support_vector_indices))\n",
        "\n",
        "# Get number of support vectors per class\n",
        "support_vectors_per_class = clf.n_support_\n",
        "print(support_vectors_per_class)\n",
        "\n",
        "# Get support vectors themselves\n",
        "support_vectors = clf.support_vectors_\n",
        "\n",
        "# Visualize support vectors\n",
        "plt.scatter(X_train[:,0], X_train[:,1])\n",
        "plt.scatter(support_vectors[:,0], support_vectors[:,1], color='purple')\n",
        "plt.title('Linearly separable data with support vectors')\n",
        "plt.xlabel('X1')\n",
        "plt.ylabel('X2')\n",
        "plt.show()"
      ]
    },
    {
      "cell_type": "code",
      "execution_count": 16,
      "metadata": {
        "colab": {
          "base_uri": "https://localhost:8080/",
          "height": 366
        },
        "id": "hIDTY4OJMnLr",
        "outputId": "48990b09-e441-459c-8c56-2b9aadee7620"
      },
      "outputs": [
        {
          "output_type": "display_data",
          "data": {
            "text/plain": [
              "<Figure size 432x288 with 1 Axes>"
            ],
            "image/png": "[encoded data removed]"
          },
          "metadata": {
            "needs_background": "light"
          }
        }
      ],
      "source": [
        "#create learning curve\n",
        "train_sizes_model, train_scores_model, valid_scores_model, *_ =learning_curve(svmm, smoteX, smoteY,)\n",
        "fig=plt.figure()\n",
        "ax=fig.add_axes([0,0,1,1])\n",
        "#plot learning curve\n",
        "ax.scatter(x=train_sizes_model,y= train_scores_model.mean(axis=1), color='b')\n",
        "ax.scatter(x=train_sizes_model,y=valid_scores_model.mean(axis=1), color='r')\n",
        "ax.plot(train_sizes_model,train_scores_model.mean(axis=1), color='b')\n",
        "ax.plot(train_sizes_model,valid_scores_model.mean(axis=1), color='r')\n",
        "ax.set_xlabel('Data Range')\n",
        "ax.set_ylabel('Accuracy')\n",
        "ax.set_title('Learning Curve')\n",
        "plt.show()"
      ]
    },
    {
      "cell_type": "markdown",
      "metadata": {
        "id": "z8p1Zt5VNVXT"
      },
      "source": [
        "# **Nural network: with smote**"
      ]
    },
    {
      "cell_type": "code",
      "execution_count": 18,
      "metadata": {
        "colab": {
          "base_uri": "https://localhost:8080/"
        },
        "id": "Nchth189NYQk",
        "outputId": "98049b2b-10af-4b63-b34f-437092a23d6f"
      },
      "outputs": [
        {
          "output_type": "stream",
          "name": "stdout",
          "text": [
            "Epoch 1/5\n",
            "212/212 [==============================] - 7s 16ms/step - loss: 0.4805 - accuracy: 0.8707 - val_loss: 0.3231 - val_accuracy: 0.9305\n",
            "Epoch 2/5\n",
            "212/212 [==============================] - 2s 11ms/step - loss: 0.2367 - accuracy: 0.9641 - val_loss: 0.1917 - val_accuracy: 0.9754\n",
            "Epoch 3/5\n",
            "212/212 [==============================] - 2s 9ms/step - loss: 0.1386 - accuracy: 0.9860 - val_loss: 0.1094 - val_accuracy: 0.9889\n",
            "Epoch 4/5\n",
            "212/212 [==============================] - 2s 11ms/step - loss: 0.0991 - accuracy: 0.9866 - val_loss: 0.0836 - val_accuracy: 0.9889\n",
            "Epoch 5/5\n",
            "212/212 [==============================] - 2s 10ms/step - loss: 0.0815 - accuracy: 0.9867 - val_loss: 0.0714 - val_accuracy: 0.9889\n"
          ]
        }
      ],
      "source": [
        "import tensorflow as tf\n",
        "from tensorflow.keras import datasets, layers, models\n",
        "import matplotlib.pyplot as plt\n",
        "import numpy as np\n",
        "# ceate archtecture\n",
        "ann = models.Sequential([\n",
        "        layers.Dense(3000, activation='relu'),\n",
        "        layers.Dense(1000, activation='relu'),\n",
        "        layers.Dense(2, activation='sigmoid')\n",
        "    ])\n",
        "\n",
        "ann.compile(optimizer='SGD',\n",
        "              loss='sparse_categorical_crossentropy',\n",
        "              metrics=['accuracy'])\n",
        "\n",
        "history = ann.fit(X_train, y_train ,verbose=1, epochs=5, \n",
        "                    validation_data=(X_test, y_test))"
      ]
    },
    {
      "cell_type": "code",
      "execution_count": 19,
      "metadata": {
        "colab": {
          "base_uri": "https://localhost:8080/"
        },
        "id": "BXRUFtVVNdbw",
        "outputId": "4c7cc327-fac9-4da4-d9f4-d1653ebbc055"
      },
      "outputs": [
        {
          "output_type": "stream",
          "name": "stdout",
          "text": [
            "142/142 [==============================] - 1s 6ms/step - loss: 0.0714 - accuracy: 0.9889\n"
          ]
        },
        {
          "output_type": "execute_result",
          "data": {
            "text/plain": [
              "[0.07138726860284805, 0.9889307022094727]"
            ]
          },
          "metadata": {},
          "execution_count": 19
        }
      ],
      "source": [
        "ann.evaluate(X_test,y_test)"
      ]
    },
    {
      "cell_type": "code",
      "execution_count": 20,
      "metadata": {
        "colab": {
          "base_uri": "https://localhost:8080/"
        },
        "id": "1dOlhS-WNupL",
        "outputId": "a52a87ff-4fb3-4c01-9852-47614e972c6b"
      },
      "outputs": [
        {
          "output_type": "stream",
          "name": "stdout",
          "text": [
            "              precision    recall  f1-score   support\n",
            "\n",
            "           0       1.00      0.98      0.99      2261\n",
            "           1       0.98      1.00      0.99      2256\n",
            "\n",
            "    accuracy                           0.99      4517\n",
            "   macro avg       0.99      0.99      0.99      4517\n",
            "weighted avg       0.99      0.99      0.99      4517\n",
            "\n"
          ]
        }
      ],
      "source": [
        "from sklearn.metrics import confusion_matrix , classification_report\n",
        "yp = ann.predict(X_test)\n",
        "\n",
        "y_pred = []\n",
        "# make predected data comparble with lebaled data\n",
        "for element in yp:\n",
        "    \n",
        "    if element[0] > 0.5:\n",
        "         y_pred.append(0)\n",
        "          \n",
        "    else:\n",
        "        y_pred.append(1)\n",
        "        \n",
        "\n",
        "print(classification_report(y_test,y_pred))        \n"
      ]
    },
    {
      "cell_type": "markdown",
      "metadata": {
        "id": "gQ-NOscxN1I5"
      },
      "source": [
        "**visualization**"
      ]
    },
    {
      "cell_type": "code",
      "execution_count": 21,
      "metadata": {
        "colab": {
          "base_uri": "https://localhost:8080/",
          "height": 463
        },
        "id": "6ecC2_74NxVI",
        "outputId": "8f8f50e7-e37c-48d5-cc1c-6230625dffa4"
      },
      "outputs": [
        {
          "output_type": "execute_result",
          "data": {
            "text/plain": [
              "Text(69.0, 0.5, 'Truth')"
            ]
          },
          "metadata": {},
          "execution_count": 21
        },
        {
          "output_type": "display_data",
          "data": {
            "text/plain": [
              "<Figure size 720x504 with 2 Axes>"
            ],
            "image/png": "[encoded data removed]"
          },
          "metadata": {
            "needs_background": "light"
          }
        }
      ],
      "source": [
        "import seaborn as sn\n",
        "cm = tf.math.confusion_matrix(labels=y_test,predictions=y_pred)\n",
        "\n",
        "plt.figure(figsize = (10,7))\n",
        "sn.heatmap(cm, annot=True, fmt='d')\n",
        "plt.xlabel('Predicted')\n",
        "plt.ylabel('Truth')"
      ]
    },
    {
      "cell_type": "code",
      "source": [
        "#plot the training and validation accuracy and loss at each epoch\n",
        "loss = history.history['loss']\n",
        "val_loss = history.history['val_loss']\n",
        "epochs = range(1, len(loss) + 1)\n",
        "plt.plot(epochs, loss, 'y', label='Training loss')\n",
        "plt.plot(epochs, val_loss, 'r', label='Validation loss')\n",
        "plt.title('Training and validation loss')\n",
        "plt.xlabel('Epochs')\n",
        "plt.ylabel('Loss')\n",
        "plt.legend()\n",
        "plt.show()\n",
        "\n",
        "\n",
        "\n"
      ],
      "metadata": {
        "colab": {
          "base_uri": "https://localhost:8080/",
          "height": 295
        },
        "id": "AD1mX8gq42Ze",
        "outputId": "05a16a75-9645-417b-b21e-67a2a65ce6ff"
      },
      "execution_count": 22,
      "outputs": [
        {
          "output_type": "display_data",
          "data": {
            "text/plain": [
              "<Figure size 432x288 with 1 Axes>"
            ],
            "image/png": "[encoded data removed]"
          },
          "metadata": {
            "needs_background": "light"
          }
        }
      ]
    },
    {
      "cell_type": "markdown",
      "source": [
        "# **Nural network: without smote**\n"
      ],
      "metadata": {
        "id": "RoEiLNkjTW5O"
      }
    },
    {
      "cell_type": "code",
      "source": [
        "import tensorflow as tf\n",
        "from tensorflow.keras import datasets, layers, models\n",
        "import matplotlib.pyplot as plt\n",
        "import numpy as np\n",
        "#create archtecture\n",
        "ann = models.Sequential([\n",
        "        layers.Dense(3000, activation='relu'),\n",
        "        layers.Dense(1000, activation='relu'),\n",
        "        layers.Dense(2, activation='sigmoid')\n",
        "    ])\n",
        "\n",
        "ann.compile(optimizer='SGD',\n",
        "              loss='sparse_categorical_crossentropy',\n",
        "              metrics=['acc'])\n",
        "\n",
        "history = ann.fit(X_train2, y_train2 ,verbose=1, epochs=5, \n",
        "                    validation_data=(X_test2, y_test2))"
      ],
      "metadata": {
        "colab": {
          "base_uri": "https://localhost:8080/"
        },
        "id": "vivB3szo8TDT",
        "outputId": "d473e342-d5f9-464a-b3e8-9e419e59aac8"
      },
      "execution_count": 23,
      "outputs": [
        {
          "output_type": "stream",
          "name": "stdout",
          "text": [
            "Epoch 1/5\n",
            "119/119 [==============================] - 3s 15ms/step - loss: 0.3885 - acc: 0.8832 - val_loss: 0.3263 - val_acc: 0.8980\n",
            "Epoch 2/5\n",
            "119/119 [==============================] - 1s 12ms/step - loss: 0.3184 - acc: 0.8900 - val_loss: 0.2743 - val_acc: 0.8980\n",
            "Epoch 3/5\n",
            "119/119 [==============================] - 1s 10ms/step - loss: 0.2618 - acc: 0.8937 - val_loss: 0.2202 - val_acc: 0.9091\n",
            "Epoch 4/5\n",
            "119/119 [==============================] - 1s 12ms/step - loss: 0.2072 - acc: 0.9227 - val_loss: 0.1740 - val_acc: 0.9620\n",
            "Epoch 5/5\n",
            "119/119 [==============================] - 1s 10ms/step - loss: 0.1605 - acc: 0.9557 - val_loss: 0.1379 - val_acc: 0.9628\n"
          ]
        }
      ]
    },
    {
      "cell_type": "code",
      "source": [
        "ann.evaluate(X_test2,y_test2)"
      ],
      "metadata": {
        "colab": {
          "base_uri": "https://localhost:8080/"
        },
        "id": "HzgFVVV28hot",
        "outputId": "786dc708-572d-4e57-8d4d-4d0765d9683b"
      },
      "execution_count": 24,
      "outputs": [
        {
          "output_type": "stream",
          "name": "stdout",
          "text": [
            "80/80 [==============================] - 0s 5ms/step - loss: 0.1379 - acc: 0.9628\n"
          ]
        },
        {
          "output_type": "execute_result",
          "data": {
            "text/plain": [
              "[0.13790163397789001, 0.9628311395645142]"
            ]
          },
          "metadata": {},
          "execution_count": 24
        }
      ]
    },
    {
      "cell_type": "code",
      "source": [
        "from sklearn.metrics import confusion_matrix , classification_report\n",
        "yp = ann.predict(X_test2)\n",
        "\n",
        "y_pred = []\n",
        "\n",
        "# make predected data comparble with lebaled data\n",
        "for element in yp:\n",
        "    \n",
        "    if element[0] > 0.5:\n",
        "         y_pred.append(0)\n",
        "          \n",
        "    else:\n",
        "        y_pred.append(1)\n",
        "        \n",
        "print(classification_report(y_test2,y_pred)) "
      ],
      "metadata": {
        "colab": {
          "base_uri": "https://localhost:8080/"
        },
        "id": "X7wC6sg08nhV",
        "outputId": "3970378e-e6a7-4c99-ab08-81a0169a6977"
      },
      "execution_count": 25,
      "outputs": [
        {
          "output_type": "stream",
          "name": "stdout",
          "text": [
            "              precision    recall  f1-score   support\n",
            "\n",
            "           0       0.97      1.00      0.98      2271\n",
            "           1       0.98      0.68      0.80       258\n",
            "\n",
            "    accuracy                           0.97      2529\n",
            "   macro avg       0.97      0.84      0.89      2529\n",
            "weighted avg       0.97      0.97      0.96      2529\n",
            "\n"
          ]
        }
      ]
    },
    {
      "cell_type": "markdown",
      "source": [
        "**NN without smote visualization**\n"
      ],
      "metadata": {
        "id": "jIWc16kpT6w_"
      }
    },
    {
      "cell_type": "code",
      "source": [
        "import seaborn as sn\n",
        "cm = tf.math.confusion_matrix(labels=y_test2,predictions=y_pred)\n",
        "plt.figure(figsize = (10,7))\n",
        "sn.heatmap(cm, annot=True, fmt='d')\n",
        "plt.xlabel('Predicted')\n",
        "plt.ylabel('Truth')"
      ],
      "metadata": {
        "colab": {
          "base_uri": "https://localhost:8080/",
          "height": 459
        },
        "id": "TgatYaWj8uxV",
        "outputId": "5502bca3-9d28-409e-f2f5-7bf90b38b76e"
      },
      "execution_count": 26,
      "outputs": [
        {
          "output_type": "execute_result",
          "data": {
            "text/plain": [
              "Text(69.0, 0.5, 'Truth')"
            ]
          },
          "metadata": {},
          "execution_count": 26
        },
        {
          "output_type": "display_data",
          "data": {
            "text/plain": [
              "<Figure size 720x504 with 2 Axes>"
            ],
            "image/png": "[encoded data removed]"
          },
          "metadata": {
            "needs_background": "light"
          }
        }
      ]
    },
    {
      "cell_type": "code",
      "source": [
        "#plot the training and validation accuracy and loss at each epoch\n",
        "loss = history.history['loss']\n",
        "val_loss = history.history['val_loss']\n",
        "epochs = range(1, len(loss) + 1)\n",
        "plt.plot(epochs, loss, 'y', label='Training loss')\n",
        "plt.plot(epochs, val_loss, 'r', label='Validation loss')\n",
        "plt.title('Training and validation loss')\n",
        "plt.xlabel('Epochs')\n",
        "plt.ylabel('Loss')\n",
        "plt.legend()\n",
        "plt.show()"
      ],
      "metadata": {
        "colab": {
          "base_uri": "https://localhost:8080/",
          "height": 295
        },
        "id": "icd1e5pM84O1",
        "outputId": "62b8e8d9-692a-4d20-ae2c-7d45b28e9b87"
      },
      "execution_count": 27,
      "outputs": [
        {
          "output_type": "display_data",
          "data": {
            "text/plain": [
              "<Figure size 432x288 with 1 Axes>"
            ],
            "image/png": "[encoded data removed]"
          },
          "metadata": {
            "needs_background": "light"
          }
        }
      ]
    },
    {
      "cell_type": "markdown",
      "source": [
        "# **SVM:without smote**"
      ],
      "metadata": {
        "id": "nFBzgUjdukeM"
      }
    },
    {
      "cell_type": "code",
      "source": [
        "kernels = ['linear','poly','rbf','sigmoid']\n",
        "scores = []\n",
        "#find the most accurate kernal on the datawithout smote\n",
        "for k in kernels:\n",
        "    svmm = svm.SVC(kernel=k,probability=True,random_state=4)\n",
        "    svmm.fit(X_train2,y_train2)\n",
        "    svmm_pred = svmm.predict(X_test2)\n",
        "    scores.append(metrics.accuracy_score(y_test2, svmm_pred))\n",
        "plt.plot(kernels, scores)\n",
        "plt.xlabel('Kernel')\n",
        "plt.ylabel('Testing Accuracy')\n",
        "plt.show()"
      ],
      "metadata": {
        "colab": {
          "base_uri": "https://localhost:8080/",
          "height": 281
        },
        "id": "50ziwFwYujtM",
        "outputId": "a0bde482-238c-4fc4-ceee-a405e26ffb3f"
      },
      "execution_count": 28,
      "outputs": [
        {
          "output_type": "display_data",
          "data": {
            "text/plain": [
              "<Figure size 432x288 with 1 Axes>"
            ],
            "image/png": "[encoded data removed]"
          },
          "metadata": {
            "needs_background": "light"
          }
        }
      ]
    },
    {
      "cell_type": "markdown",
      "source": [
        "rbf is still the most accurate kernal but with a huge diffrance"
      ],
      "metadata": {
        "id": "M8NsWQGEcDrH"
      }
    },
    {
      "cell_type": "code",
      "execution_count": 29,
      "metadata": {
        "colab": {
          "base_uri": "https://localhost:8080/"
        },
        "id": "xaDELhVlRg9O",
        "outputId": "02f49334-4aa3-4d9f-eb22-67afe49f0f26"
      },
      "outputs": [
        {
          "output_type": "stream",
          "name": "stdout",
          "text": [
            "rbf\n"
          ]
        }
      ],
      "source": [
        "max_value = max(scores)\n",
        "max_index = scores.index(max_value)\n",
        "print(kernels[max_index])"
      ]
    },
    {
      "cell_type": "code",
      "execution_count": 30,
      "metadata": {
        "id": "LiGSU6ZSN-xK",
        "colab": {
          "base_uri": "https://localhost:8080/"
        },
        "outputId": "3a39f0ee-f8fb-436e-bf1c-648eaf28353f"
      },
      "outputs": [
        {
          "output_type": "stream",
          "name": "stdout",
          "text": [
            "Accuracy on training set: 0.996308\n",
            "Accuracy on test set: 0.996441\n"
          ]
        }
      ],
      "source": [
        "svmm =  svm.SVC(kernel=kernels[max_index],probability=True)\n",
        "clf = svmm.fit(X_train2,y_train2)\n",
        "svmm_pred = svmm.predict(X_test2)\n",
        "print(\"Accuracy on training set: {:.6f}\".format(svmm.score(X_train2, y_train2)))\n",
        "print(\"Accuracy on test set: {:.6f}\".format(svmm.score(X_test2, y_test2)))"
      ]
    },
    {
      "cell_type": "code",
      "source": [
        "print(classification_report(y_test2,svmm_pred))"
      ],
      "metadata": {
        "colab": {
          "base_uri": "https://localhost:8080/"
        },
        "id": "I_SaLoK8u5TH",
        "outputId": "54f4d8b8-9b82-4521-fe38-0c19a4ff8c54"
      },
      "execution_count": 31,
      "outputs": [
        {
          "output_type": "stream",
          "name": "stdout",
          "text": [
            "              precision    recall  f1-score   support\n",
            "\n",
            "           0       1.00      1.00      1.00      2271\n",
            "           1       0.98      0.99      0.98       258\n",
            "\n",
            "    accuracy                           1.00      2529\n",
            "   macro avg       0.99      0.99      0.99      2529\n",
            "weighted avg       1.00      1.00      1.00      2529\n",
            "\n"
          ]
        }
      ]
    },
    {
      "cell_type": "code",
      "source": [
        "train_sizes_model, train_scores_model, valid_scores_model, *_ =learning_curve(svmm, X, y,)\n",
        "fig=plt.figure()\n",
        "ax=fig.add_axes([0,0,1,1])\n",
        "ax.scatter(x=train_sizes_model,y= train_scores_model.mean(axis=1), color='b')\n",
        "ax.scatter(x=train_sizes_model,y=valid_scores_model.mean(axis=1), color='r')\n",
        "ax.plot(train_sizes_model,train_scores_model.mean(axis=1), color='b')\n",
        "ax.plot(train_sizes_model,valid_scores_model.mean(axis=1), color='r')\n",
        "ax.set_xlabel('Data Range')\n",
        "ax.set_ylabel('Accuracy')\n",
        "ax.set_title('Learning Curve')\n",
        "plt.show()"
      ],
      "metadata": {
        "colab": {
          "base_uri": "https://localhost:8080/",
          "height": 366
        },
        "id": "cMi_kqIKu5lo",
        "outputId": "e1242eea-5136-474e-d2f2-9faf13cc99b1"
      },
      "execution_count": 32,
      "outputs": [
        {
          "output_type": "display_data",
          "data": {
            "text/plain": [
              "<Figure size 432x288 with 1 Axes>"
            ],
            "image/png": "[encoded data removed]"
          },
          "metadata": {
            "needs_background": "light"
          }
        }
      ]
    },
    {
      "cell_type": "code",
      "source": [
        "plot_confusion_matrix(svmm, X_test2, y_test2)  \n",
        "plt.title('confusion Matrix')\n",
        "plt.show()"
      ],
      "metadata": {
        "colab": {
          "base_uri": "https://localhost:8080/",
          "height": 350
        },
        "id": "iPWpmrNWu9Rv",
        "outputId": "81b3bb16-3d07-47ef-9ac0-8e2037015c36"
      },
      "execution_count": 33,
      "outputs": [
        {
          "output_type": "stream",
          "name": "stderr",
          "text": [
            "/usr/local/lib/python3.7/dist-packages/sklearn/utils/deprecation.py:87: FutureWarning: Function plot_confusion_matrix is deprecated; Function `plot_confusion_matrix` is deprecated in 1.0 and will be removed in 1.2. Use one of the class methods: ConfusionMatrixDisplay.from_predictions or ConfusionMatrixDisplay.from_estimator.\n",
            "  warnings.warn(msg, category=FutureWarning)\n"
          ]
        },
        {
          "output_type": "display_data",
          "data": {
            "text/plain": [
              "<Figure size 432x288 with 2 Axes>"
            ],
            "image/png": "[encoded data removed]"
          },
          "metadata": {
            "needs_background": "light"
          }
        }
      ]
    },
    {
      "cell_type": "code",
      "source": [
        "# Get support vector indices\n",
        "support_vector_indices = clf.support_\n",
        "print(len(support_vector_indices))\n",
        "\n",
        "# Get number of support vectors per class\n",
        "support_vectors_per_class = clf.n_support_\n",
        "print(support_vectors_per_class)\n",
        "\n",
        "# Get support vectors themselves\n",
        "support_vectors = clf.support_vectors_\n",
        "\n",
        "# Visualize support vectors\n",
        "plt.scatter(X_train[:,0], X_train[:,1])\n",
        "plt.scatter(support_vectors[:,0], support_vectors[:,1], color='purple')\n",
        "plt.title('Linearly separable data with support vectors')\n",
        "plt.xlabel('X1')\n",
        "plt.ylabel('X2')\n",
        "plt.show()"
      ],
      "metadata": {
        "colab": {
          "base_uri": "https://localhost:8080/",
          "height": 330
        },
        "id": "uoPksylNvWE4",
        "outputId": "7144a3e6-53d8-47b5-ae8c-8df601a9a2a5"
      },
      "execution_count": 34,
      "outputs": [
        {
          "output_type": "stream",
          "name": "stdout",
          "text": [
            "353\n",
            "[179 174]\n"
          ]
        },
        {
          "output_type": "display_data",
          "data": {
            "text/plain": [
              "<Figure size 432x288 with 1 Axes>"
            ],
            "image/png": "[encoded data removed]"
          },
          "metadata": {
            "needs_background": "light"
          }
        }
      ]
    }
  ],
  "metadata": {
    "accelerator": "GPU",
    "colab": {
      "name": "svm and nn.ipynb",
      "provenance": [],
      "collapsed_sections": []
    },
    "kernelspec": {
      "display_name": "Python 3",
      "name": "python3"
    },
    "language_info": {
      "name": "python"
    }
  },
  "nbformat": 4,
  "nbformat_minor": 0
}